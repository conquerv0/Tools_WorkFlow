{
 "cells": [
  {
   "cell_type": "markdown",
   "id": "2d364d3a",
   "metadata": {},
   "source": [
    "# Django Basics\n",
    "\n",
    "This notebook explores the basic knowledge required for Django developments.\n",
    "\n",
    "### 1. Python Basics: Data Structure"
   ]
  },
  {
   "cell_type": "code",
   "execution_count": null,
   "id": "3a65991a",
   "metadata": {},
   "outputs": [],
   "source": [
    "# Numericals\n",
    "a = 1\n",
    "b = 2\n",
    "a*b\n",
    "\n",
    "# Strings\n",
    "s = 'hello'\n",
    "s2 = ' world!'\n",
    "s3 = s + s2\n",
    "print(s3)\n",
    "\n",
    "# List\n",
    "names = []\n",
    "names.append('Meyer')\n",
    "\n",
    "# Function \n",
    "def exponentiation(a, b)\n",
    "    return a**b"
   ]
  },
  {
   "cell_type": "markdown",
   "id": "a921c2c4",
   "metadata": {},
   "source": [
    "### 2. Html basics\n",
    "\n",
    "This section explores the basics of html syntax. \n",
    "\n",
    "`<table>` \n",
    "\n",
    "```\n",
    "<html>\n",
    "    <head>\n",
    "\n",
    "    </head>\n",
    "    \n",
    "    <script>\n",
    "        function test(){\n",
    "            alert(1234);\n",
    "        }\n",
    "        function demo(){\n",
    "            alert(1);\n",
    "        }\n",
    "    </script>\n",
    "\n",
    "    <body>\n",
    "        <p> Some text</p>\n",
    "        <br>\n",
    "        <table>\n",
    "            <tr>\n",
    "                <td>1</td>\n",
    "                <td>2</td>\n",
    "            </tr>\n",
    "            <tr>\n",
    "                <td>3</td>\n",
    "                <td>4</td>\n",
    "            <tr>\n",
    "        </table>\n",
    "    </body>\n",
    "\n",
    "    <a href=\"http://www.google.com\">Google</a>\n",
    "\n",
    "    <div>\n",
    "\n",
    "    </div>\n",
    "\n",
    "    <input type='text' value=\"123\"/>\n",
    "    <input type='button' value='Submit'>\n",
    "<html>\n",
    "```"
   ]
  },
  {
   "cell_type": "markdown",
   "id": "42daa853",
   "metadata": {},
   "source": [
    "### 3. Web Crawler, Requests and Sockets"
   ]
  },
  {
   "cell_type": "code",
   "execution_count": 3,
   "id": "bfabf5e7",
   "metadata": {},
   "outputs": [],
   "source": [
    "import requests\n",
    "from time import sleep\n",
    "from bs4 import BeautifulSoup\n",
    "\n",
    "req = requests.get()\n",
    "\n",
    "soup = BeautifulSoup(req.text, 'html.parser')\n",
    "layui_list = soup.find_all(\"div\", attrs={\"class\": \"layui-col-md12\"})\n",
    "for info_tag in layui_list[2:]:\n",
    "    content = info_tag.find_all('div', attrs={\"class\": \"content\"})\n",
    "    print(content.text)\n",
    "    print(\"--\"*100)"
   ]
  }
 ],
 "metadata": {
  "kernelspec": {
   "display_name": "Python 3",
   "language": "python",
   "name": "python3"
  },
  "language_info": {
   "codemirror_mode": {
    "name": "ipython",
    "version": 3
   },
   "file_extension": ".py",
   "mimetype": "text/x-python",
   "name": "python",
   "nbconvert_exporter": "python",
   "pygments_lexer": "ipython3",
   "version": "3.8.8"
  }
 },
 "nbformat": 4,
 "nbformat_minor": 5
}
