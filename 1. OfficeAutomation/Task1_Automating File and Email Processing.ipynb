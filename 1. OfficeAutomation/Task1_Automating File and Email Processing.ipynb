{
 "cells": [
  {
   "cell_type": "markdown",
   "id": "9a64f952",
   "metadata": {},
   "source": [
    "# 1 Automating File Processing\n",
    "\n",
    "## 1.1  File Reading\n",
    "This notebook segments explores how Python can be used in creating, reading and writing files to the disk. \n",
    "\n",
    "### 1.1.1  Basics: File and Its Properties\n",
    "File have two basic properties: `name` and `filepath`. Path points to the location of the file in the computer, name refers to the name of the file at this location. \n",
    "We use the function `os.path.join()` to create a file name string: \n",
    "\n",
    "```\n",
    "import os\n",
    "os.path.join('Quant', 'doc')\n",
    "```\n",
    "\n",
    "Note that on Mac OS X and Linux, file path uses `/` as the delimter while Windows use `\\` as the delimeter. "
   ]
  },
  {
   "cell_type": "markdown",
   "id": "ff6bf268",
   "metadata": {},
   "source": [
    "### 1.1.2 Current Working Directory\n",
    "Current working directory is the current file path opened. We can use `os.getcwd()` to obtain the current file path, and `os.chdir()` can be used to change it."
   ]
  },
  {
   "cell_type": "code",
   "execution_count": 8,
   "id": "6b5fdc12",
   "metadata": {},
   "outputs": [
    {
     "data": {
      "text/plain": [
       "'/Users/ConquerV/QUANT/RSM'"
      ]
     },
     "execution_count": 8,
     "metadata": {},
     "output_type": "execute_result"
    }
   ],
   "source": [
    "import os\n",
    "os.chdir('/Users/ConquerV/QUANT/OfficeAutomation')\n",
    "os.getcwd()"
   ]
  },
  {
   "cell_type": "markdown",
   "id": "77a9f15c",
   "metadata": {},
   "source": [
    "### 1.1.3 Path Manipulation\n",
    "`Absolute path` file path always begins with the root, such as which disk partition the file is on. `Relative path` is the path relative to the current working directory. "
   ]
  },
  {
   "cell_type": "code",
   "execution_count": 10,
   "id": "e54f65f0",
   "metadata": {},
   "outputs": [
    {
     "data": {
      "text/plain": [
       "True"
      ]
     },
     "execution_count": 10,
     "metadata": {},
     "output_type": "execute_result"
    }
   ],
   "source": [
    "os.path.abspath('.')\n",
    "os.path.isabs('.')\n",
    "os.path.isabs(os.path.abspath('.'))"
   ]
  },
  {
   "cell_type": "markdown",
   "id": "950ee97b",
   "metadata": {},
   "source": [
    "`os.path.relpath(path, start)` returns the relative file path from start to path. Default value of `start` is current working directory. "
   ]
  },
  {
   "cell_type": "code",
   "execution_count": 13,
   "id": "c0897e41",
   "metadata": {},
   "outputs": [
    {
     "data": {
      "text/plain": [
       "'../../OfficeAutomation'"
      ]
     },
     "execution_count": 13,
     "metadata": {},
     "output_type": "execute_result"
    }
   ],
   "source": [
    "os.path.relpath('/Users/ConquerV/QUANT/OfficeAutomation', 'Users')"
   ]
  },
  {
   "cell_type": "code",
   "execution_count": 19,
   "id": "7732061f",
   "metadata": {},
   "outputs": [
    {
     "data": {
      "text/plain": [
       "'/Users/ConquerV/QUANT'"
      ]
     },
     "execution_count": 19,
     "metadata": {},
     "output_type": "execute_result"
    }
   ],
   "source": [
    "path = '/Users/ConquerV/QUANT/OfficeAutomation'\n",
    "os.path.dirname(path)"
   ]
  },
  {
   "cell_type": "markdown",
   "id": "43da540c",
   "metadata": {},
   "source": [
    "Python provides `os.path.exists()` for path checking.\n",
    "\n",
    "`os.path.isfile(path)` evaluates if a path variable exits, and that it refers to a file. \n",
    "\n",
    "`os.path.isdir(path)` evaluates if a path variable refers to a directory."
   ]
  },
  {
   "cell_type": "markdown",
   "id": "b6bc8ba6",
   "metadata": {},
   "source": [
    "### 1.1.4 File and Directory Manipulation"
   ]
  },
  {
   "cell_type": "code",
   "execution_count": 17,
   "id": "49944a23",
   "metadata": {},
   "outputs": [],
   "source": [
    "import os\n",
    "os.makedirs('Sample')"
   ]
  },
  {
   "cell_type": "code",
   "execution_count": 20,
   "id": "7eb53bc0",
   "metadata": {},
   "outputs": [
    {
     "data": {
      "text/plain": [
       "['.DS_Store',\n",
       " '.ipynb_checkpoints',\n",
       " 'Task1_Automating File and Email Processing.ipynb']"
      ]
     },
     "execution_count": 20,
     "metadata": {},
     "output_type": "execute_result"
    }
   ],
   "source": [
    "os.path.getsize(path)\n",
    "os.listdir(path)"
   ]
  },
  {
   "cell_type": "code",
   "execution_count": 21,
   "id": "384b448c",
   "metadata": {},
   "outputs": [
    {
     "name": "stdout",
     "output_type": "stream",
     "text": [
      "11398\n"
     ]
    }
   ],
   "source": [
    "totalSize = 0\n",
    "for filename in os.listdir(path):\n",
    "    totalSize += os.path.getsize(os.path.join(path, filename))\n",
    "print(totalSize)"
   ]
  },
  {
   "cell_type": "markdown",
   "id": "0d3f7a7e",
   "metadata": {},
   "source": [
    "### 1.1.6 File Openning, Reading, Writing. \n"
   ]
  },
  {
   "cell_type": "code",
   "execution_count": 25,
   "id": "0086e6ac",
   "metadata": {},
   "outputs": [
    {
     "name": "stdout",
     "output_type": "stream",
     "text": [
      "<_io.TextIOWrapper name='/Users/ConquerV/QUANT/OfficeAutomation/hello.txt' mode='r' encoding='UTF-8'>\n"
     ]
    }
   ],
   "source": [
    "helloFile = open(os.path.join(path, 'hello.txt'))\n",
    "print(helloFile)"
   ]
  },
  {
   "cell_type": "markdown",
   "id": "1ecf51c5",
   "metadata": {},
   "source": [
    "Once we have the file object, we can read its content."
   ]
  },
  {
   "cell_type": "code",
   "execution_count": 27,
   "id": "098c5b07",
   "metadata": {},
   "outputs": [
    {
     "data": {
      "text/plain": [
       "['{\\\\rtf1\\\\ansi\\\\ansicpg936\\\\cocoartf1404\\\\cocoasubrtf470\\n',\n",
       " '{\\\\fonttbl\\\\f0\\\\fswiss\\\\fcharset0 Helvetica;}\\n',\n",
       " '{\\\\colortbl;\\\\red255\\\\green255\\\\blue255;}\\n',\n",
       " '\\\\margl1440\\\\margr1440\\\\vieww10800\\\\viewh8400\\\\viewkind0\\n',\n",
       " '\\\\pard\\\\tx566\\\\tx1133\\\\tx1700\\\\tx2267\\\\tx2834\\\\tx3401\\\\tx3968\\\\tx4535\\\\tx5102\\\\tx5669\\\\tx6236\\\\tx6803\\\\pardirnatural\\\\partightenfactor0\\n',\n",
       " '\\n',\n",
       " '\\\\f0\\\\fs24 \\\\cf0 Hello World}']"
      ]
     },
     "execution_count": 27,
     "metadata": {},
     "output_type": "execute_result"
    }
   ],
   "source": [
    "helloContent = helloFile.read()\n",
    "sonnetFile = open(os.path.join(path, 'hello.txt'))\n",
    "sonnetFile.readlines()"
   ]
  },
  {
   "cell_type": "markdown",
   "id": "d5282e21",
   "metadata": {},
   "source": [
    "Note that there is different mode to open a file, such as `w, r, a`"
   ]
  },
  {
   "cell_type": "code",
   "execution_count": 32,
   "id": "8fa4185d",
   "metadata": {},
   "outputs": [
    {
     "name": "stdout",
     "output_type": "stream",
     "text": [
      "Python is the best language! \n",
      "\n"
     ]
    }
   ],
   "source": [
    "helloFile = open(os.path.join(path, 'hello.txt'), 'w')\n",
    "helloFile.write('Python is the best language! \\n')\n",
    "\n",
    "# Close the file to complete writing to the file\n",
    "helloFile.close()\n",
    "\n",
    "# Open the file for reading\n",
    "hFile = open(os.path.join(path, 'hello.txt'))\n",
    "content = hFile.read()\n",
    "hFile.close()\n",
    "print(content)"
   ]
  },
  {
   "cell_type": "markdown",
   "id": "5d1dad26",
   "metadata": {},
   "source": [
    "### 1.1.6 Shelve Module\n",
    "Using `shelve`, we can stores the python variables into the binary `shelf` file format. \n",
    "Such, the program will be able to restore variable data from the disk."
   ]
  },
  {
   "cell_type": "code",
   "execution_count": 34,
   "id": "ee1a6a08",
   "metadata": {},
   "outputs": [],
   "source": [
    "import shelve\n",
    "shelfFile = shelve.open('mydata')\n",
    "cats = ['British Short', 'Ragdoll', 'Angora']\n",
    "shelfFile['cats'] = cats\n",
    "shelfFile.close()"
   ]
  },
  {
   "cell_type": "markdown",
   "id": "d3243f20",
   "metadata": {},
   "source": [
    "Note that shelf contains methods such as `keys()` and `values()` as in dictionary. But the return variable needs to be passed into the `list()` method to obtain the data in list format. "
   ]
  },
  {
   "cell_type": "code",
   "execution_count": 35,
   "id": "cdebd7c4",
   "metadata": {},
   "outputs": [],
   "source": [
    "shelfFile = shelve.open('mydata')\n",
    "list(shelfFile.keys())\n",
    "list(shelfFile.values())\n",
    "shelfFile.close()"
   ]
  },
  {
   "cell_type": "markdown",
   "id": "7040122b",
   "metadata": {},
   "source": [
    "Using `pprint.pformat()` function to stores variable method "
   ]
  },
  {
   "cell_type": "code",
   "execution_count": 44,
   "id": "0273a5fd",
   "metadata": {},
   "outputs": [],
   "source": [
    "import pprint\n",
    "cats = ['British Short', 'Ragdoll', 'Angora', 'Mouse']\n",
    "pprint.pformat(cats)\n",
    "fileO = open('myCats.py', 'w')\n",
    "fileO.write('cats = '+pprint.pformat(cats)+'\\n')\n",
    "fileO.close()"
   ]
  },
  {
   "cell_type": "markdown",
   "id": "c5080076",
   "metadata": {},
   "source": [
    "__Practice__\n",
    "1. Write a program that creates 35 unique survey with 50 multiple choice, in random orders. The problems needs to have 1 correct answer and 3 random wrong answer. The surveys questions and their answers needs to be written into 35 txt file respectively. "
   ]
  },
  {
   "cell_type": "code",
   "execution_count": 48,
   "id": "02726768",
   "metadata": {},
   "outputs": [],
   "source": [
    "import random\n",
    "\n",
    "for i in range(35):\n",
    "    shelfFile = shelve.open('Survey #'+str(i))\n",
    "    for j in range(50):\n",
    "        random.shuffle(cats)\n",
    "        answers = {'Correct':cats[0], 'Wrong':cats[1:]}\n",
    "        shelfFile['Q' +str(j)] = answers"
   ]
  },
  {
   "cell_type": "markdown",
   "id": "94a70a21",
   "metadata": {},
   "source": [
    "### 1.2.1 Shutil Module"
   ]
  },
  {
   "cell_type": "code",
   "execution_count": null,
   "id": "e5f7f5eb",
   "metadata": {},
   "outputs": [],
   "source": []
  }
 ],
 "metadata": {
  "kernelspec": {
   "display_name": "Python 3",
   "language": "python",
   "name": "python3"
  },
  "language_info": {
   "codemirror_mode": {
    "name": "ipython",
    "version": 3
   },
   "file_extension": ".py",
   "mimetype": "text/x-python",
   "name": "python",
   "nbconvert_exporter": "python",
   "pygments_lexer": "ipython3",
   "version": "3.8.8"
  }
 },
 "nbformat": 4,
 "nbformat_minor": 5
}
